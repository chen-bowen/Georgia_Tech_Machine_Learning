{
 "cells": [
  {
   "cell_type": "markdown",
   "id": "72051797-d8e1-4f94-8e22-ff544633b974",
   "metadata": {},
   "source": [
    "# Tweeter Sentiment Analysis Model"
   ]
  },
  {
   "cell_type": "code",
   "execution_count": 3,
   "id": "0ea87f9d-a85b-463e-af02-b9e1d34264e8",
   "metadata": {},
   "outputs": [
    {
     "name": "stdout",
     "output_type": "stream",
     "text": [
      "The lab_black extension is already loaded. To reload it, use:\n",
      "  %reload_ext lab_black\n"
     ]
    }
   ],
   "source": [
    "%load_ext lab_black\n",
    "import sys\n",
    "\n",
    "sys.path.append(\"..\")\n",
    "from src.data.twitter_dataset import TwitterDataset\n",
    "from src.main import analyze_twitter_sentiment_model"
   ]
  },
  {
   "cell_type": "code",
   "execution_count": null,
   "id": "74c0ba42-ff2a-465c-a06c-ef756b6dc50d",
   "metadata": {},
   "outputs": [],
   "source": [
    "analyze_twitter_sentiment_model()"
   ]
  },
  {
   "cell_type": "code",
   "execution_count": null,
   "id": "29356df1-69da-4f98-985a-01fa5bd7fd19",
   "metadata": {},
   "outputs": [],
   "source": []
  }
 ],
 "metadata": {
  "kernelspec": {
   "display_name": "machine_learning",
   "language": "python",
   "name": "machine_learning"
  },
  "language_info": {
   "codemirror_mode": {
    "name": "ipython",
    "version": 3
   },
   "file_extension": ".py",
   "mimetype": "text/x-python",
   "name": "python",
   "nbconvert_exporter": "python",
   "pygments_lexer": "ipython3",
   "version": "3.9.7"
  }
 },
 "nbformat": 4,
 "nbformat_minor": 5
}
