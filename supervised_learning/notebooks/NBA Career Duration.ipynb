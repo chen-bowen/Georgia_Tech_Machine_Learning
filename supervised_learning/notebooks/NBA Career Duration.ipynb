{
 "cells": [
  {
   "cell_type": "markdown",
   "id": "a6f4e99c-01e4-46c4-9c3b-17303579fa61",
   "metadata": {},
   "source": [
    "# Predicting NBA Player Career Duration and Twitter Sentiment"
   ]
  },
  {
   "cell_type": "code",
   "execution_count": 1,
   "id": "792c60cb-ce89-455e-81be-3e017c90cc5e",
   "metadata": {},
   "outputs": [],
   "source": [
    "%load_ext lab_black\n",
    "import warnings\n",
    "import sys\n",
    "\n",
    "sys.path.append(\"..\")\n",
    "from src.main import analyze_nba_career_duration_model, analyze_twitter_sentiment_model\n",
    "from sklearn.exceptions import ConvergenceWarning\n",
    "\n",
    "warnings.filterwarnings(\"ignore\")\n",
    "warnings.filterwarnings(\"ignore\", category=ConvergenceWarning, module=\"sklearn\")"
   ]
  },
  {
   "cell_type": "markdown",
   "id": "10725eb8-761f-4466-96b0-d7bffee61f08",
   "metadata": {},
   "source": [
    "Run model pipeline fit and plot learning curves for all 5 models"
   ]
  },
  {
   "cell_type": "code",
   "execution_count": null,
   "id": "5ea03c31-851d-46cc-9aa0-2e2663a9b1fe",
   "metadata": {},
   "outputs": [
    {
     "name": "stdout",
     "output_type": "stream",
     "text": [
      "Analyzing Decision Tree completed in 71.5012 seconds\n"
     ]
    }
   ],
   "source": [
    "analyze_nba_career_duration_model()"
   ]
  },
  {
   "cell_type": "code",
   "execution_count": null,
   "id": "fba8f87b-1e06-413b-9947-1ae73f451eeb",
   "metadata": {},
   "outputs": [],
   "source": [
    "analyze_twitter_sentiment_model()"
   ]
  },
  {
   "cell_type": "code",
   "execution_count": null,
   "id": "e94f151d-3721-4b84-9e07-c8749ccb4229",
   "metadata": {},
   "outputs": [],
   "source": []
  }
 ],
 "metadata": {
  "kernelspec": {
   "display_name": "machine_learning",
   "language": "python",
   "name": "machine_learning"
  },
  "language_info": {
   "codemirror_mode": {
    "name": "ipython",
    "version": 3
   },
   "file_extension": ".py",
   "mimetype": "text/x-python",
   "name": "python",
   "nbconvert_exporter": "python",
   "pygments_lexer": "ipython3",
   "version": "3.9.7"
  }
 },
 "nbformat": 4,
 "nbformat_minor": 5
}
