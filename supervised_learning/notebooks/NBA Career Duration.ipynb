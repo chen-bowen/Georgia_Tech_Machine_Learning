{
 "cells": [
  {
   "cell_type": "markdown",
   "id": "a6f4e99c-01e4-46c4-9c3b-17303579fa61",
   "metadata": {},
   "source": [
    "# Predicting NBA Player Career Duration and Twitter Sentiment"
   ]
  },
  {
   "cell_type": "code",
   "execution_count": 1,
   "id": "792c60cb-ce89-455e-81be-3e017c90cc5e",
   "metadata": {},
   "outputs": [],
   "source": [
    "%load_ext lab_black\n",
    "import warnings\n",
    "import sys\n",
    "\n",
    "sys.path.append(\"..\")\n",
    "from src.main import analyze_nba_career_duration_model, analyze_twitter_sentiment_model\n",
    "\n",
    "warnings.filterwarnings(\"ignore\")"
   ]
  },
  {
   "cell_type": "markdown",
   "id": "10725eb8-761f-4466-96b0-d7bffee61f08",
   "metadata": {},
   "source": [
    "Run model pipeline fit and plot learning curves for all 5 models"
   ]
  },
  {
   "cell_type": "code",
   "execution_count": null,
   "id": "5ea03c31-851d-46cc-9aa0-2e2663a9b1fe",
   "metadata": {},
   "outputs": [
    {
     "name": "stdout",
     "output_type": "stream",
     "text": [
      "Analyzing Decision Tree completed in 94.4954 seconds\n",
      "Analyzing Neural Network completed in 1543.8039 seconds\n",
      "Analyzing AdaBoost completed in 325.3243 seconds\n",
      "Analyzing SVC completed in 302.4311 seconds\n"
     ]
    }
   ],
   "source": [
    "analyze_nba_career_duration_model()"
   ]
  },
  {
   "cell_type": "code",
   "execution_count": null,
   "id": "757f5f49-ff63-401b-9876-df2298209da7",
   "metadata": {},
   "outputs": [],
   "source": []
  }
 ],
 "metadata": {
  "kernelspec": {
   "display_name": "machine_learning",
   "language": "python",
   "name": "machine_learning"
  },
  "language_info": {
   "codemirror_mode": {
    "name": "ipython",
    "version": 3
   },
   "file_extension": ".py",
   "mimetype": "text/x-python",
   "name": "python",
   "nbconvert_exporter": "python",
   "pygments_lexer": "ipython3",
   "version": "3.9.7"
  }
 },
 "nbformat": 4,
 "nbformat_minor": 5
}
